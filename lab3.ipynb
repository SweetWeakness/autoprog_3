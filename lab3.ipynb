{
 "cells": [
  {
   "cell_type": "markdown",
   "metadata": {
    "id": "RFrpDjMD2UVC"
   },
   "source": [
    "# Лабораторная работа по теме \"Metamorphic testing\""
   ]
  },
  {
   "cell_type": "markdown",
   "metadata": {
    "id": "JoSgSozQHykn"
   },
   "source": [
    "Ссылка на материалы занятия https://drive.google.com/drive/folders/1dbq1scqU22XPFCrVmz75gpRsb49QjtcM?usp=drive_link\n",
    "\n",
    "Литература\n",
    "\n",
    "1) Barr E.T., Harman M., McMinn P., Shahbaz M., Yoo S. The oracle problem in software testing: A survey. IEEE transactions on software engineering. 41(5). 2014. P. 507-525. https://ieeexplore.ieee.org/stamp/stamp.jsp?tp=&arnumber=6963470\n",
    "\n",
    "2) Tsong Yueh Chen, Fei-Ching Kuo, Huai Liu, Pak-Lok Poon, Dave Towey, T. H.\n",
    "Tse, and Zhi Quan Zhou. 2018. Metamorphic Testing: A Review of Challenges\n",
    "and Opportunities. 51, 1, Article 4 (Jan. 2018), 27 pages. https://doi.org/10.1145/3143561\n",
    "\n",
    "3) M. Srinivasan, M. P. Shahri, I. Kahanda and U. Kanewala, \"Quality Assurance of Bioinformatics Software: A Case Study of Testing a Biomedical Text Processing Tool Using Metamorphic Testing\", 2018 IEEE/ACM 3rd International Workshop on Metamorphic Testing (MET), Gothenburg, 2018, pp. 26-33. https://arxiv.org/pdf/1802.07354.pdf\n",
    "\n",
    "\n",
    "**Критерии оценки.**\n",
    "\n",
    "Условная оценка - 10 баллов за лабораторную. Для получения зачёта достаточно набрать 6.\n",
    "\n",
    "\n",
    "\n",
    "- Задание 1. (4 вопроса, 1 балл)\n",
    "- Задание 2. (9 баллов)"
   ]
  },
  {
   "cell_type": "markdown",
   "metadata": {
    "id": "cOOjuYki2gDK"
   },
   "source": [
    "## Задание 1. Теоретическая часть\n",
    "\n",
    "Ответьте на следующие вопросы (*1 балл*).\n",
    "1. Опишите суть проблемы тестового оракула.\n",
    "2. Приведите примеры задач, для которых обычное тестирование с оракулом не подходит.\n",
    "3. Перечислите методы, которые применяются для решения этой проблемы.\n",
    "4. Дайте определение тестового инварианта (metamorphic relation).\n",
    "\n",
    "\n",
    "\n"
   ]
  },
  {
   "cell_type": "markdown",
   "metadata": {
    "id": "IpV3qmFCI-mZ"
   },
   "source": [
    "Приведите свои ответы здесь:\n",
    "\n",
    "1. Чтобы првоерить ответы программы, нужно чтобы ответ уже был, либо легко проверяем.\n",
    "2. Например, задачи, связанные с весами нейронной сети. Задачи по генерации текста.\n",
    "3. Implicit oracles, comparison testing, fuzzing, metamorphic testing, assertion testing.\n",
    "4. Свойство, которое должно сохраняться при изменении входных данных программы, если она работает корректно. Иногда сложно проверить правильность результата напрямую, но можно изменить вход (например, поменять порядок предложений, изменить регистр букв, добавить шум) и заранее знать, как должен измениться (или не измениться) результат."
   ]
  },
  {
   "cell_type": "markdown",
   "metadata": {
    "id": "BvHnRXJCH6Fm"
   },
   "source": [
    "## Задание 2. Разработка тестовых инвариантов\n",
    "\n",
    "Дана модель для распознавания сущностей в тексте.\n",
    "- Придумайте и реализуйте 2 теста с тестовым оракулом (обычные тесты с правильными ответами) (*1 балл*)\n",
    "- Придумайте и реализуйте не менее 3 тестовых инвариантов (metamorphic relations) для её проверки - (*суммарно 6 баллов, теоретическое описание - по 1 баллу, реализация - по 1 баллу*)\n",
    "- Сравните полученные тесты. В чем преимущества каждого из методов? В чём недостатки? (*2 балла*)\n",
    "\n",
    "*Указание*. Можете воспользоваться идеями со слайда \"Bio-entity recognition\" или из статьи \"Quality Assurance of Bioinformatics Software: A Case Study of Testing a Biomedical Text Processing Tool Using Metamorphic Testing\" из списка литературы.\n",
    "\n",
    "**Правила оформления.**\n",
    "\n",
    "Для каждого инварианта необходимо описать\n",
    " - из каких предположений о модели он вытекает,\n",
    " - формальное описание (желательно с формулой),\n",
    " - запуск на 1-2 примерах тестовых данных.\n",
    "\n",
    "Теоретическую часть можно оформить в ячейке markdown."
   ]
  },
  {
   "cell_type": "markdown",
   "metadata": {
    "id": "Rmc0KqkI7g8c"
   },
   "source": [
    "### Тестируемая система\n",
    "\n",
    "Модель позволяет искать сущности в тексте. Ниже приведены примеры того, как можно с ней работать."
   ]
  },
  {
   "cell_type": "code",
   "execution_count": 1,
   "metadata": {
    "id": "c2OQoJZ05L17"
   },
   "outputs": [],
   "source": [
    "# ! pip install spacy==2.2.4"
   ]
  },
  {
   "cell_type": "code",
   "execution_count": 2,
   "metadata": {
    "id": "7pJhnXchlEqW"
   },
   "outputs": [],
   "source": [
    "import spacy\n",
    "from spacy import displacy"
   ]
  },
  {
   "cell_type": "code",
   "execution_count": 3,
   "metadata": {
    "id": "nROSvozS7ngm"
   },
   "outputs": [],
   "source": [
    "# example of model usage\n",
    "def render(text):\n",
    "\n",
    "    nlp = spacy.load('en_core_web_sm') # model\n",
    "\n",
    "    doc = nlp(text) # data processing\n",
    "\n",
    "    # FYI all the properties\n",
    "    props = [p for p in dir(doc.ents[0]) if p[0] != '_']\n",
    "    print(props)\n",
    "\n",
    "    # custom processing of the answer\n",
    "\n",
    "    # get counts of entities\n",
    "    ent_labels = [e.label_ for e in doc.ents]\n",
    "    freq = dict()\n",
    "    for l in ent_labels:\n",
    "        freq[l] = ent_labels.count(l)\n",
    "    print(freq)\n",
    "\n",
    "    # get coordinates of entities\n",
    "    coordinates = [e.start_char for e in doc.ents]\n",
    "    print(coordinates)\n",
    "\n",
    "    # render the answer\n",
    "    displacy.render(doc, style='ent', jupyter=True)\n"
   ]
  },
  {
   "cell_type": "markdown",
   "metadata": {
    "id": "HBEamgaP4K9W"
   },
   "source": [
    "Модель позволяет искать сущности в тексте. В ячейке ниже приведены примеры того, как можно с ней работать."
   ]
  },
  {
   "cell_type": "code",
   "execution_count": 4,
   "metadata": {
    "colab": {
     "base_uri": "https://localhost:8080/",
     "height": 229
    },
    "id": "_uAmLvzO7r8d",
    "outputId": "823a8621-455f-4137-b68d-db21ebc0dabe"
   },
   "outputs": [
    {
     "name": "stdout",
     "output_type": "stream",
     "text": [
      "['as_doc', 'char_span', 'conjuncts', 'doc', 'end', 'end_char', 'ent_id', 'ent_id_', 'ents', 'get_extension', 'get_lca_matrix', 'has_extension', 'has_vector', 'id', 'id_', 'kb_id', 'kb_id_', 'label', 'label_', 'lefts', 'lemma_', 'n_lefts', 'n_rights', 'noun_chunks', 'orth_', 'remove_extension', 'rights', 'root', 'sent', 'sentiment', 'sents', 'set_extension', 'similarity', 'start', 'start_char', 'subtree', 'tensor', 'text', 'text_with_ws', 'to_array', 'vector', 'vector_norm', 'vocab']\n",
      "{'ORG': 4, 'LOC': 1}\n",
      "[4, 84, 111, 124, 167]\n"
     ]
    },
    {
     "data": {
      "text/html": [
       "<span class=\"tex2jax_ignore\"><div class=\"entities\" style=\"line-height: 2.5; direction: ltr\">But \n",
       "<mark class=\"entity\" style=\"background: #7aecec; padding: 0.45em 0.6em; margin: 0 0.25em; line-height: 1; border-radius: 0.35em;\">\n",
       "    Google\n",
       "    <span style=\"font-size: 0.8em; font-weight: bold; line-height: 1; border-radius: 0.35em; vertical-align: middle; margin-left: 0.5rem\">ORG</span>\n",
       "</mark>\n",
       " is starting from behind. The company made a late push<br>into hardware, and \n",
       "<mark class=\"entity\" style=\"background: #7aecec; padding: 0.45em 0.6em; margin: 0 0.25em; line-height: 1; border-radius: 0.35em;\">\n",
       "    Apple’s Siri\n",
       "    <span style=\"font-size: 0.8em; font-weight: bold; line-height: 1; border-radius: 0.35em; vertical-align: middle; margin-left: 0.5rem\">ORG</span>\n",
       "</mark>\n",
       ", available on \n",
       "<mark class=\"entity\" style=\"background: #7aecec; padding: 0.45em 0.6em; margin: 0 0.25em; line-height: 1; border-radius: 0.35em;\">\n",
       "    iPhones\n",
       "    <span style=\"font-size: 0.8em; font-weight: bold; line-height: 1; border-radius: 0.35em; vertical-align: middle; margin-left: 0.5rem\">ORG</span>\n",
       "</mark>\n",
       ", and \n",
       "<mark class=\"entity\" style=\"background: #7aecec; padding: 0.45em 0.6em; margin: 0 0.25em; line-height: 1; border-radius: 0.35em;\">\n",
       "    Amazon\n",
       "    <span style=\"font-size: 0.8em; font-weight: bold; line-height: 1; border-radius: 0.35em; vertical-align: middle; margin-left: 0.5rem\">ORG</span>\n",
       "</mark>\n",
       "’s Alexa<br>software, which runs on its \n",
       "<mark class=\"entity\" style=\"background: #ff9561; padding: 0.45em 0.6em; margin: 0 0.25em; line-height: 1; border-radius: 0.35em;\">\n",
       "    Echo\n",
       "    <span style=\"font-size: 0.8em; font-weight: bold; line-height: 1; border-radius: 0.35em; vertical-align: middle; margin-left: 0.5rem\">LOC</span>\n",
       "</mark>\n",
       " and Dot devices, have clear leads in<br>consumer adoption.</div></span>"
      ],
      "text/plain": [
       "<IPython.core.display.HTML object>"
      ]
     },
     "metadata": {},
     "output_type": "display_data"
    }
   ],
   "source": [
    "text = \"\"\"But Google is starting from behind. The company made a late push\n",
    "into hardware, and Apple’s Siri, available on iPhones, and Amazon’s Alexa\n",
    "software, which runs on its Echo and Dot devices, have clear leads in\n",
    "consumer adoption.\"\"\"\n",
    "\n",
    "render(text)"
   ]
  },
  {
   "cell_type": "markdown",
   "metadata": {
    "id": "4hts770wMN81"
   },
   "source": [
    "\n",
    "### Пример оформления инварианта\n",
    "\n",
    "Рассмотрим задачу поиска подстроки в строке.\n",
    "\n",
    "Предполагаем, что алгоритм должен находить все вхождения подстроки.\n",
    "\n",
    "> **MR1.** Если в строке S найдёна некоторая подстрока s ровно k раз, то в строке SS она будет найдена не менее 2k раз (возможны нахождения на месте склейки строк).\n",
    "\n",
    "Формально. Пусть S - строка, s - её подстрока, f(S,s) - определённое программой число вхождений s в S. Тогда f(SS,s) >= 2*f(S,s).\n"
   ]
  },
  {
   "cell_type": "code",
   "execution_count": 5,
   "metadata": {
    "id": "l3HLSNRb2fap"
   },
   "outputs": [],
   "source": [
    "import re\n",
    "import unittest\n",
    "\n",
    "# function for testing\n",
    "def func_to_test(substr, string):\n",
    "    return re.finditer(pattern=substr, string=string)\n",
    "\n",
    "\n",
    "class TestStringMethods(unittest.TestCase):\n",
    "\n",
    "    def test_with_oracle1(self):\n",
    "        # input data\n",
    "        big_string = 'abacaba'\n",
    "        substr = 'aba'\n",
    "\n",
    "        # correct answer\n",
    "        right_answer = [0, 4]\n",
    "\n",
    "        indices = func_to_test(substr, big_string)\n",
    "        answer = [index.start() for index in indices]\n",
    "\n",
    "        self.assertTrue(answer == right_answer)\n",
    "\n",
    "    def test_metamorphic1(self):\n",
    "        # input data\n",
    "        big_string1 = 'abacab'\n",
    "        big_string2 = big_string1 + big_string1\n",
    "        substr = 'aba'\n",
    "\n",
    "        # first answer\n",
    "        indices = func_to_test(substr, big_string1)\n",
    "        indices1 = [index.start() for index in indices]\n",
    "\n",
    "        # second answer\n",
    "        indices = func_to_test(substr, big_string2)\n",
    "        indices2 = [index.start() for index in indices]\n",
    "\n",
    "        # metamorphic relation\n",
    "        self.assertTrue(2*len(indices1) <= len(indices2))"
   ]
  },
  {
   "cell_type": "markdown",
   "metadata": {
    "id": "YIWP_VCIJgoo"
   },
   "source": [
    "Ниже мы запускаем все объявленные тестовые случаи"
   ]
  },
  {
   "cell_type": "code",
   "execution_count": 6,
   "metadata": {
    "colab": {
     "base_uri": "https://localhost:8080/"
    },
    "id": "hNOpslG87uzq",
    "outputId": "e02e88de-ff3a-4d6a-86d2-ffc9328e0c53"
   },
   "outputs": [
    {
     "name": "stderr",
     "output_type": "stream",
     "text": [
      "..\n",
      "----------------------------------------------------------------------\n",
      "Ran 2 tests in 0.001s\n",
      "\n",
      "OK\n"
     ]
    },
    {
     "data": {
      "text/plain": [
       "<unittest.main.TestProgram at 0x78ffafdabfd0>"
      ]
     },
     "execution_count": 6,
     "metadata": {},
     "output_type": "execute_result"
    }
   ],
   "source": [
    "unittest.main(argv=['first-arg-is-ignored'], exit=False)"
   ]
  },
  {
   "cell_type": "markdown",
   "metadata": {
    "id": "u1gJjW4GIYhe"
   },
   "source": [
    "### Реализуйте собственные тестовые инварианты ниже"
   ]
  },
  {
   "cell_type": "code",
   "execution_count": 7,
   "metadata": {
    "id": "LZDPL68WIrAh"
   },
   "outputs": [],
   "source": [
    "# для корректного вывода результатов\n",
    "def get_result(text):\n",
    "    nlp = spacy.load('en_core_web_sm')\n",
    "    doc = nlp(text)\n",
    "    props = [p for p in dir(doc.ents[0]) if p[0] != '_']\n",
    "    ent_labels = [e.label_ for e in doc.ents]\n",
    "    freq = dict()\n",
    "    for l in ent_labels:\n",
    "        freq[l] = ent_labels.count(l)\n",
    "    coordinates = [e.start_char for e in doc.ents]\n",
    "    return (freq, coordinates)"
   ]
  },
  {
   "cell_type": "code",
   "execution_count": 8,
   "metadata": {},
   "outputs": [
    {
     "name": "stdout",
     "output_type": "stream",
     "text": [
      "You know why Chuck Norris-movies suck? Because the movies are nervous about Chuck Norris in 'em.\n"
     ]
    }
   ],
   "source": [
    "# поулчение по апи случайных шуток\n",
    "import requests\n",
    "import warnings\n",
    "import urllib3\n",
    "\n",
    "# отключить только предупреждение InsecureRequestWarning (вызываю без ссл)\n",
    "urllib3.disable_warnings(urllib3.exceptions.InsecureRequestWarning)\n",
    "\n",
    "def get_random_joke():\n",
    "    url = \"https://api.chucknorris.io/jokes/random\"\n",
    "    r = requests.get(url, verify=False)  # если SSL не настроен\n",
    "    r.raise_for_status()\n",
    "    return r.json()[\"value\"]\n",
    "\n",
    "print(get_random_joke())"
   ]
  },
  {
   "cell_type": "code",
   "execution_count": 9,
   "metadata": {},
   "outputs": [
    {
     "name": "stdout",
     "output_type": "stream",
     "text": [
      "the company signed in Berlin on March 1976. Apple Inc. was born on at the headquarters on 25/11/2013. Mary founded at the headquarters on April 1993. the company visited in Berlin on 1979. NASA visited in Tokyo on October 25, 2000.\n"
     ]
    }
   ],
   "source": [
    "# синтез текста с разными форматами дат\n",
    "import random\n",
    "import datetime\n",
    "\n",
    "\n",
    "def get_random_text_with_dates(n_sentences: int = 5) -> str:\n",
    "    date_formats = [\n",
    "        \"%B %d, %Y\",    \n",
    "        \"%d %B %Y\",     \n",
    "        \"%Y-%m-%d\",     \n",
    "        \"%d/%m/%Y\",     \n",
    "        \"%m/%d/%y\",     \n",
    "        \"%B %Y\",        \n",
    "        \"%Y\"            \n",
    "    ]\n",
    "\n",
    "    verbs = [\"met\", \"visited\", \"founded\", \"was born on\", \"launched\", \"signed\"]\n",
    "    subjects = [\"John\", \"Mary\", \"Tesla\", \"NASA\", \"Apple Inc.\", \"the company\"]\n",
    "    places = [\"in New York\", \"in Paris\", \"at the headquarters\", \"in Berlin\", \"in Tokyo\"]\n",
    "\n",
    "    sentences = []\n",
    "    for _ in range(n_sentences):\n",
    "        dt = datetime.date.today() - datetime.timedelta(days=random.randint(0, 20000))\n",
    "        date_str = dt.strftime(random.choice(date_formats))\n",
    "        sentence = f\"{random.choice(subjects)} {random.choice(verbs)} {random.choice(places)} on {date_str}.\"\n",
    "        sentences.append(sentence)\n",
    "\n",
    "    return \" \".join(sentences)\\\n",
    "\n",
    "\n",
    "print(get_random_text_with_dates())"
   ]
  },
  {
   "cell_type": "code",
   "execution_count": 10,
   "metadata": {},
   "outputs": [
    {
     "name": "stdout",
     "output_type": "stream",
     "text": [
      "Chuck Norris can make you lick your own elbow by twisting you into a pretzel. Chuck Norris was at a bar when a drunken guy called him a pussy. Chuck punched him so hard his kidneys shut down. Tesla visited in Paris on 12/16/79. Tesla was born on in Tokyo on 1999. Chuck Norris is a fat and lonely man who has bum sex with his 10 year old son, I know this because I am Chuck Norris son \"dad get that small dick out of there\"\n"
     ]
    }
   ],
   "source": [
    "# поулчение текста с рандомными предложениями\n",
    "def get_mixed_text(jokes_count: int = 3, date_sentences_count: int = 2) -> str:\n",
    "    parts = []\n",
    "    for _ in range(jokes_count):\n",
    "        parts.append(get_random_joke())\n",
    "    parts.append(get_random_text_with_dates(date_sentences_count))\n",
    "    random.shuffle(parts)\n",
    "    return \" \".join(parts)\n",
    "\n",
    "print(get_mixed_text())"
   ]
  },
  {
   "cell_type": "markdown",
   "metadata": {},
   "source": [
    "### Тестирование"
   ]
  },
  {
   "cell_type": "markdown",
   "metadata": {
    "id": "EwyIL0zxLxdF"
   },
   "source": [
    "## 1 Инвариант:\n",
    "\n",
    "Если склеить текст с самим собой через точку с пробелами как явный разделитель предложения (\"` . `\"), счётчик категории \"DATE\" должен ровно удвоиться.\n",
    "Разделитель разрывает любые потенциальные слияния и не создаёт новых сущностей.\n",
    "\n",
    "Т.е. cat1 = get_result(s), cat2 = get_result(s + \"` . `\" + s) => cat1[\"DATE\"] * 2 = cat2[\"DATE\"]"
   ]
  },
  {
   "cell_type": "markdown",
   "metadata": {
    "id": "CguStf5aRV2a"
   },
   "source": [
    "## 2 Инвариант\n",
    "\n",
    "Если к тексту добавить одну сущность (например, дополнительную дату), то количество распознанных сущностей должно увеличиться ровно на 1.\n",
    "  \n",
    "Т. е. cat1 = get_result(s), cat2 = get_result(s + \" on 2023-12-31.\") => sum(cat1.values()) + 1 = sum(cat2.values())"
   ]
  },
  {
   "cell_type": "markdown",
   "metadata": {
    "id": "iDfZe6uXS37m"
   },
   "source": [
    "## 3 Инвариант\n",
    "\n",
    "Если к тексту добавить нейтральный текст, то количество распознанных сущностей не должно измениться.\n",
    "\n",
    "Т. е. cat1 = get_result(s), cat2 = get_result(s + \" lol kek\") => sum(cat1.values()) = sum(cat2.values())"
   ]
  },
  {
   "cell_type": "code",
   "execution_count": 11,
   "metadata": {
    "id": "f0hWY1bayPn5"
   },
   "outputs": [],
   "source": [
    "INVS_NUM = 10\n",
    "\n",
    "\n",
    "import unittest\n",
    "\n",
    "class TestStringMethods(unittest.TestCase):\n",
    "\n",
    "    def test_with_oracle1(self):\n",
    "        test_text = \"\"\"One morning, when Gregor Samsa woke from troubled dreams, he found himself transformed in his bed into a horrible vermin.\n",
    "        He lay on his armour-like back, and if he lifted his head a little he could see his brown belly, slightly domed and divided by arches into stiff sections.\"\"\"\n",
    "\n",
    "        result = get_result(test_text)\n",
    "        correct_result = ({'TIME': 1, 'PERSON': 1}, [0, 18])\n",
    "\n",
    "        self.assertTrue(result == correct_result)\n",
    "\n",
    "\n",
    "    def test_with_oracle2(self):\n",
    "        test_text = \"\"\"The quick, brown fox jumps over a lazy dog. DJs flock by when MTV ax quiz prog. Junk MTV quiz graced by fox whelps.\n",
    "        Bawds jog, flick quartz, vex nymphs. Waltz, bad nymph, for quick jigs vex! Fox nymphs grab quick-jived waltz.\n",
    "        Brick quiz whangs jumpy veldt fox. Bright vixens jump; dozy fowl quack. Quick wafting zephyrs vex bold Jim.\n",
    "        Quick zephyrs blow, vexing daft Jim. Sex-charged fop blew my junk TV quiz. How quickly daft jumping zebras vex.\n",
    "        Two driven jocks help fax my big quiz.\"\"\"\n",
    "\n",
    "        result = get_result(test_text)\n",
    "        correct_result = ({'ORG': 3, 'PERSON': 5, 'CARDINAL': 1}, [62, 85, 124, 161, 199, 242, 345, 390, 478])\n",
    "\n",
    "        self.assertTrue(result == correct_result)\n",
    "\n",
    "\n",
    "    def test_metamorphic1(self):\n",
    "        def simple_test():\n",
    "            s = get_mixed_text(3, 2)\n",
    "            base = get_result(s)[0]\n",
    "            dup = get_result(s + \" . \" + s)[0]\n",
    "    \n",
    "            base_date = base.get(\"DATE\", 0)\n",
    "            dup_date = dup.get(\"DATE\", 0)\n",
    "    \n",
    "            self.assertEqual(dup_date, 2 * base_date)\n",
    "    \n",
    "        for _ in range(INVS_NUM):\n",
    "            simple_test()\n",
    "            print(\"%d test for 1 inv passed\" % (_ + 1))\n",
    "\n",
    "\n",
    "    def test_metamorphic2(self):\n",
    "        def simple_test():\n",
    "            base_text = get_mixed_text(3, 2)\n",
    "            base = get_result(base_text)[0]\n",
    "            base_count = sum(base.values())\n",
    "    \n",
    "            # Добавляем одну новую дату\n",
    "            new_text = base_text + \" on 2023-12-31.\"\n",
    "            new = get_result(new_text)[0]\n",
    "            new_count = sum(new.values())\n",
    "    \n",
    "            self.assertEqual(new_count, base_count + 1)\n",
    "    \n",
    "        for _ in range(INVS_NUM):\n",
    "            simple_test()\n",
    "            print(\"%d test for 2 inv passed\" % (_ + 1))\n",
    "\n",
    "\n",
    "    def test_metamorphic3(self):\n",
    "        def simple_test():\n",
    "            base_text = get_mixed_text(3, 2)\n",
    "            base = get_result(base_text)[0]\n",
    "            base_count = sum(base.values())\n",
    "    \n",
    "            # Добавляем одну новую дату\n",
    "            new_text = base_text + \" lol kek\"\n",
    "            new = get_result(new_text)[0]\n",
    "            new_count = sum(new.values())\n",
    "    \n",
    "            self.assertEqual(new_count, base_count)\n",
    "    \n",
    "        for _ in range(INVS_NUM):\n",
    "            simple_test()\n",
    "            print(\"%d test for 3 inv passed\" % (_ + 1))"
   ]
  },
  {
   "cell_type": "code",
   "execution_count": 12,
   "metadata": {
    "colab": {
     "base_uri": "https://localhost:8080/"
    },
    "id": "AU_uYHTn0FKI",
    "outputId": "43582607-1b94-4e76-bfdd-088a2aa8871c"
   },
   "outputs": [
    {
     "name": "stderr",
     "output_type": "stream",
     "text": [
      "/usr/lib/python3/dist-packages/urllib3/connectionpool.py:1020: InsecureRequestWarning: Unverified HTTPS request is being made to host 'api.chucknorris.io'. Adding certificate verification is strongly advised. See: https://urllib3.readthedocs.io/en/latest/advanced-usage.html#ssl-warnings\n",
      "  warnings.warn(\n"
     ]
    },
    {
     "name": "stdout",
     "output_type": "stream",
     "text": [
      "1 test for 1 inv passed\n",
      "2 test for 1 inv passed\n",
      "3 test for 1 inv passed\n",
      "4 test for 1 inv passed\n",
      "5 test for 1 inv passed\n",
      "6 test for 1 inv passed\n",
      "7 test for 1 inv passed\n",
      "8 test for 1 inv passed\n",
      "9 test for 1 inv passed\n"
     ]
    },
    {
     "name": "stderr",
     "output_type": "stream",
     "text": [
      "."
     ]
    },
    {
     "name": "stdout",
     "output_type": "stream",
     "text": [
      "10 test for 1 inv passed\n",
      "1 test for 2 inv passed\n",
      "2 test for 2 inv passed\n",
      "3 test for 2 inv passed\n",
      "4 test for 2 inv passed\n",
      "5 test for 2 inv passed\n",
      "6 test for 2 inv passed\n",
      "7 test for 2 inv passed\n",
      "8 test for 2 inv passed\n",
      "9 test for 2 inv passed\n"
     ]
    },
    {
     "name": "stderr",
     "output_type": "stream",
     "text": [
      "."
     ]
    },
    {
     "name": "stdout",
     "output_type": "stream",
     "text": [
      "10 test for 2 inv passed\n",
      "1 test for 3 inv passed\n",
      "2 test for 3 inv passed\n",
      "3 test for 3 inv passed\n",
      "4 test for 3 inv passed\n",
      "5 test for 3 inv passed\n",
      "6 test for 3 inv passed\n",
      "7 test for 3 inv passed\n",
      "8 test for 3 inv passed\n",
      "9 test for 3 inv passed\n"
     ]
    },
    {
     "name": "stderr",
     "output_type": "stream",
     "text": [
      "."
     ]
    },
    {
     "name": "stdout",
     "output_type": "stream",
     "text": [
      "10 test for 3 inv passed\n"
     ]
    },
    {
     "name": "stderr",
     "output_type": "stream",
     "text": [
      "..\n",
      "----------------------------------------------------------------------\n",
      "Ran 5 tests in 114.491s\n",
      "\n",
      "OK\n"
     ]
    },
    {
     "data": {
      "text/plain": [
       "<unittest.main.TestProgram at 0x78ffafc61270>"
      ]
     },
     "execution_count": 12,
     "metadata": {},
     "output_type": "execute_result"
    }
   ],
   "source": [
    "unittest.main(argv=['first-arg-is-ignored'], exit=False)"
   ]
  },
  {
   "cell_type": "markdown",
   "metadata": {
    "id": "ct_jmGhaT0ei"
   },
   "source": [
    "## Результаты\n",
    "\n",
    "Тест с оракулом дает однозначное представление о поведении функции. Однако у него есть недостаток - нужно иметь сами правильные ответы.\n",
    "\n",
    "Тест с инвариантом позволяет проверять различные гипотезы на больших объемах данных без реальных ответов - все зависит от гипотезы, условия, которое мы предъявляем к функции. Однако это все еще не дает безошибочных результатов (во время тестирования, столкнулся с проблемой инвариантности имен для ```s.lower()```, и еще узнал, что примерно 5 моих изначальных вариантов не работают, когда начал проверять на больших объемах данных)"
   ]
  },
  {
   "cell_type": "code",
   "execution_count": null,
   "metadata": {
    "id": "q4yX369gUAMh"
   },
   "outputs": [],
   "source": []
  }
 ],
 "metadata": {
  "colab": {
   "provenance": []
  },
  "kernelspec": {
   "display_name": "Python 3 (ipykernel)",
   "language": "python",
   "name": "python3"
  },
  "language_info": {
   "codemirror_mode": {
    "name": "ipython",
    "version": 3
   },
   "file_extension": ".py",
   "mimetype": "text/x-python",
   "name": "python",
   "nbconvert_exporter": "python",
   "pygments_lexer": "ipython3",
   "version": "3.10.12"
  }
 },
 "nbformat": 4,
 "nbformat_minor": 4
}
