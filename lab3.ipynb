{
  "cells": [
    {
      "cell_type": "markdown",
      "metadata": {
        "id": "RFrpDjMD2UVC"
      },
      "source": [
        "# Лабораторная работа по теме \"Metamorphic testing\""
      ]
    },
    {
      "cell_type": "markdown",
      "metadata": {
        "id": "JoSgSozQHykn"
      },
      "source": [
        "Ссылка на материалы занятия https://drive.google.com/drive/folders/1dbq1scqU22XPFCrVmz75gpRsb49QjtcM?usp=drive_link\n",
        "\n",
        "Литература\n",
        "\n",
        "1) Barr E.T., Harman M., McMinn P., Shahbaz M., Yoo S. The oracle problem in software testing: A survey. IEEE transactions on software engineering. 41(5). 2014. P. 507-525. https://ieeexplore.ieee.org/stamp/stamp.jsp?tp=&arnumber=6963470\n",
        "\n",
        "2) Tsong Yueh Chen, Fei-Ching Kuo, Huai Liu, Pak-Lok Poon, Dave Towey, T. H.\n",
        "Tse, and Zhi Quan Zhou. 2018. Metamorphic Testing: A Review of Challenges\n",
        "and Opportunities. 51, 1, Article 4 (Jan. 2018), 27 pages. https://doi.org/10.1145/3143561\n",
        "\n",
        "3) M. Srinivasan, M. P. Shahri, I. Kahanda and U. Kanewala, \"Quality Assurance of Bioinformatics Software: A Case Study of Testing a Biomedical Text Processing Tool Using Metamorphic Testing\", 2018 IEEE/ACM 3rd International Workshop on Metamorphic Testing (MET), Gothenburg, 2018, pp. 26-33. https://arxiv.org/pdf/1802.07354.pdf\n",
        "\n",
        "\n",
        "**Критерии оценки.**\n",
        "\n",
        "Условная оценка - 10 баллов за лабораторную. Для получения зачёта достаточно набрать 6.\n",
        "\n",
        "\n",
        "\n",
        "- Задание 1. (4 вопроса, 1 балл)\n",
        "- Задание 2. (9 баллов)"
      ]
    },
    {
      "cell_type": "markdown",
      "metadata": {
        "id": "cOOjuYki2gDK"
      },
      "source": [
        "## Задание 1. Теоретическая часть\n",
        "\n",
        "Ответьте на следующие вопросы (*1 балл*).\n",
        "1. Опишите суть проблемы тестового оракула.\n",
        "2. Приведите примеры задач, для которых обычное тестирование с оракулом не подходит.\n",
        "3. Перечислите методы, которые применяются для решения этой проблемы.\n",
        "4. Дайте определение тестового инварианта (metamorphic relation).\n",
        "\n",
        "\n",
        "\n"
      ]
    },
    {
      "cell_type": "markdown",
      "metadata": {
        "id": "IpV3qmFCI-mZ"
      },
      "source": [
        "Приведите свои ответы здесь:\n",
        "\n",
        "1. Чтобы првоерить ответы программы, нужно чтобы ответ уже был, либо легко проверяем.\n",
        "2. Например, задачи, связанные с весами нейронной сети. Задачи по генерации текста.\n",
        "3. Implicit oracles, comparison testing, fuzzing, metamorphic testing, assertion testing.\n",
        "4. Вместо проверки\n",
        "правильности каждого конкретного ответа программы проверяется\n",
        "выполнение тестового инварианта (metamorphic relation), вычисляемого\n",
        "для нескольких наборов исходных данных и соответствующих им ответов\n",
        "программы."
      ]
    },
    {
      "cell_type": "markdown",
      "metadata": {
        "id": "BvHnRXJCH6Fm"
      },
      "source": [
        "## Задание 2. Разработка тестовых инвариантов\n",
        "\n",
        "Дана модель для распознавания сущностей в тексте.\n",
        "- Придумайте и реализуйте 2 теста с тестовым оракулом (обычные тесты с правильными ответами) (*1 балл*)\n",
        "- Придумайте и реализуйте не менее 3 тестовых инвариантов (metamorphic relations) для её проверки - (*суммарно 6 баллов, теоретическое описание - по 1 баллу, реализация - по 1 баллу*)\n",
        "- Сравните полученные тесты. В чем преимущества каждого из методов? В чём недостатки? (*2 балла*)\n",
        "\n",
        "*Указание*. Можете воспользоваться идеями со слайда \"Bio-entity recognition\" или из статьи \"Quality Assurance of Bioinformatics Software: A Case Study of Testing a Biomedical Text Processing Tool Using Metamorphic Testing\" из списка литературы.\n",
        "\n",
        "**Правила оформления.**\n",
        "\n",
        "Для каждого инварианта необходимо описать\n",
        " - из каких предположений о модели он вытекает,\n",
        " - формальное описание (желательно с формулой),\n",
        " - запуск на 1-2 примерах тестовых данных.\n",
        "\n",
        "Теоретическую часть можно оформить в ячейке markdown."
      ]
    },
    {
      "cell_type": "markdown",
      "metadata": {
        "id": "Rmc0KqkI7g8c"
      },
      "source": [
        "### Тестируемая система\n",
        "\n",
        "Модель позволяет искать сущности в тексте. Ниже приведены примеры того, как можно с ней работать."
      ]
    },
    {
      "cell_type": "code",
      "execution_count": 1,
      "metadata": {
        "id": "c2OQoJZ05L17"
      },
      "outputs": [],
      "source": [
        "# ! pip install spacy==2.2.4"
      ]
    },
    {
      "cell_type": "code",
      "execution_count": 2,
      "metadata": {
        "id": "7pJhnXchlEqW"
      },
      "outputs": [],
      "source": [
        "import spacy\n",
        "from spacy import displacy"
      ]
    },
    {
      "cell_type": "code",
      "execution_count": 3,
      "metadata": {
        "id": "nROSvozS7ngm"
      },
      "outputs": [],
      "source": [
        "# example of model usage\n",
        "def render(text):\n",
        "\n",
        "    nlp = spacy.load('en_core_web_sm') # model\n",
        "\n",
        "    doc = nlp(text) # data processing\n",
        "\n",
        "    # FYI all the properties\n",
        "    props = [p for p in dir(doc.ents[0]) if p[0] != '_']\n",
        "    print(props)\n",
        "\n",
        "    # custom processing of the answer\n",
        "\n",
        "    # get counts of entities\n",
        "    ent_labels = [e.label_ for e in doc.ents]\n",
        "    freq = dict()\n",
        "    for l in ent_labels:\n",
        "        freq[l] = ent_labels.count(l)\n",
        "    print(freq)\n",
        "\n",
        "    # get coordinates of entities\n",
        "    coordinates = [e.start_char for e in doc.ents]\n",
        "    print(coordinates)\n",
        "\n",
        "    # render the answer\n",
        "    displacy.render(doc, style='ent', jupyter=True)\n"
      ]
    },
    {
      "cell_type": "markdown",
      "metadata": {
        "id": "HBEamgaP4K9W"
      },
      "source": [
        "Модель позволяет искать сущности в тексте. В ячейке ниже приведены примеры того, как можно с ней работать."
      ]
    },
    {
      "cell_type": "code",
      "execution_count": 4,
      "metadata": {
        "colab": {
          "base_uri": "https://localhost:8080/",
          "height": 229
        },
        "id": "_uAmLvzO7r8d",
        "outputId": "823a8621-455f-4137-b68d-db21ebc0dabe"
      },
      "outputs": [
        {
          "output_type": "stream",
          "name": "stdout",
          "text": [
            "['as_doc', 'char_span', 'conjuncts', 'doc', 'end', 'end_char', 'ent_id', 'ent_id_', 'ents', 'get_extension', 'get_lca_matrix', 'has_extension', 'has_vector', 'id', 'id_', 'kb_id', 'kb_id_', 'label', 'label_', 'lefts', 'lemma_', 'n_lefts', 'n_rights', 'noun_chunks', 'orth_', 'remove_extension', 'rights', 'root', 'sent', 'sentiment', 'sents', 'set_extension', 'similarity', 'start', 'start_char', 'subtree', 'tensor', 'text', 'text_with_ws', 'to_array', 'vector', 'vector_norm', 'vocab']\n",
            "{'ORG': 5, 'PERSON': 1, 'LOC': 1}\n",
            "[4, 84, 92, 111, 124, 133, 167]\n"
          ]
        },
        {
          "output_type": "display_data",
          "data": {
            "text/plain": [
              "<IPython.core.display.HTML object>"
            ],
            "text/html": [
              "<span class=\"tex2jax_ignore\"><div class=\"entities\" style=\"line-height: 2.5; direction: ltr\">But \n",
              "<mark class=\"entity\" style=\"background: #7aecec; padding: 0.45em 0.6em; margin: 0 0.25em; line-height: 1; border-radius: 0.35em;\">\n",
              "    Google\n",
              "    <span style=\"font-size: 0.8em; font-weight: bold; line-height: 1; border-radius: 0.35em; vertical-align: middle; margin-left: 0.5rem\">ORG</span>\n",
              "</mark>\n",
              " is starting from behind. The company made a late push<br>into hardware, and \n",
              "<mark class=\"entity\" style=\"background: #7aecec; padding: 0.45em 0.6em; margin: 0 0.25em; line-height: 1; border-radius: 0.35em;\">\n",
              "    Apple\n",
              "    <span style=\"font-size: 0.8em; font-weight: bold; line-height: 1; border-radius: 0.35em; vertical-align: middle; margin-left: 0.5rem\">ORG</span>\n",
              "</mark>\n",
              "’s \n",
              "<mark class=\"entity\" style=\"background: #aa9cfc; padding: 0.45em 0.6em; margin: 0 0.25em; line-height: 1; border-radius: 0.35em;\">\n",
              "    Siri\n",
              "    <span style=\"font-size: 0.8em; font-weight: bold; line-height: 1; border-radius: 0.35em; vertical-align: middle; margin-left: 0.5rem\">PERSON</span>\n",
              "</mark>\n",
              ", available on \n",
              "<mark class=\"entity\" style=\"background: #7aecec; padding: 0.45em 0.6em; margin: 0 0.25em; line-height: 1; border-radius: 0.35em;\">\n",
              "    iPhones\n",
              "    <span style=\"font-size: 0.8em; font-weight: bold; line-height: 1; border-radius: 0.35em; vertical-align: middle; margin-left: 0.5rem\">ORG</span>\n",
              "</mark>\n",
              ", and \n",
              "<mark class=\"entity\" style=\"background: #7aecec; padding: 0.45em 0.6em; margin: 0 0.25em; line-height: 1; border-radius: 0.35em;\">\n",
              "    Amazon\n",
              "    <span style=\"font-size: 0.8em; font-weight: bold; line-height: 1; border-radius: 0.35em; vertical-align: middle; margin-left: 0.5rem\">ORG</span>\n",
              "</mark>\n",
              "’s \n",
              "<mark class=\"entity\" style=\"background: #7aecec; padding: 0.45em 0.6em; margin: 0 0.25em; line-height: 1; border-radius: 0.35em;\">\n",
              "    Alexa\n",
              "    <span style=\"font-size: 0.8em; font-weight: bold; line-height: 1; border-radius: 0.35em; vertical-align: middle; margin-left: 0.5rem\">ORG</span>\n",
              "</mark>\n",
              "<br>software, which runs on its \n",
              "<mark class=\"entity\" style=\"background: #ff9561; padding: 0.45em 0.6em; margin: 0 0.25em; line-height: 1; border-radius: 0.35em;\">\n",
              "    Echo\n",
              "    <span style=\"font-size: 0.8em; font-weight: bold; line-height: 1; border-radius: 0.35em; vertical-align: middle; margin-left: 0.5rem\">LOC</span>\n",
              "</mark>\n",
              " and Dot devices, have clear leads in<br>consumer adoption.</div></span>"
            ]
          },
          "metadata": {}
        }
      ],
      "source": [
        "text = \"\"\"But Google is starting from behind. The company made a late push\n",
        "into hardware, and Apple’s Siri, available on iPhones, and Amazon’s Alexa\n",
        "software, which runs on its Echo and Dot devices, have clear leads in\n",
        "consumer adoption.\"\"\"\n",
        "\n",
        "render(text)"
      ]
    },
    {
      "cell_type": "markdown",
      "metadata": {
        "id": "4hts770wMN81"
      },
      "source": [
        "\n",
        "### Пример оформления инварианта\n",
        "\n",
        "Рассмотрим задачу поиска подстроки в строке.\n",
        "\n",
        "Предполагаем, что алгоритм должен находить все вхождения подстроки.\n",
        "\n",
        "> **MR1.** Если в строке S найдёна некоторая подстрока s ровно k раз, то в строке SS она будет найдена не менее 2k раз (возможны нахождения на месте склейки строк).\n",
        "\n",
        "Формально. Пусть S - строка, s - её подстрока, f(S,s) - определённое программой число вхождений s в S. Тогда f(SS,s) >= 2*f(S,s).\n"
      ]
    },
    {
      "cell_type": "code",
      "execution_count": 5,
      "metadata": {
        "id": "l3HLSNRb2fap"
      },
      "outputs": [],
      "source": [
        "import re\n",
        "import unittest\n",
        "\n",
        "# function for testing\n",
        "def func_to_test(substr, string):\n",
        "    return re.finditer(pattern=substr, string=string)\n",
        "\n",
        "\n",
        "class TestStringMethods(unittest.TestCase):\n",
        "\n",
        "    def test_with_oracle1(self):\n",
        "        # input data\n",
        "        big_string = 'abacaba'\n",
        "        substr = 'aba'\n",
        "\n",
        "        # correct answer\n",
        "        right_answer = [0, 4]\n",
        "\n",
        "        indices = func_to_test(substr, big_string)\n",
        "        answer = [index.start() for index in indices]\n",
        "\n",
        "        self.assertTrue(answer == right_answer)\n",
        "\n",
        "    def test_metamorphic1(self):\n",
        "        # input data\n",
        "        big_string1 = 'abacab'\n",
        "        big_string2 = big_string1 + big_string1\n",
        "        substr = 'aba'\n",
        "\n",
        "        # first answer\n",
        "        indices = func_to_test(substr, big_string1)\n",
        "        indices1 = [index.start() for index in indices]\n",
        "\n",
        "        # second answer\n",
        "        indices = func_to_test(substr, big_string2)\n",
        "        indices2 = [index.start() for index in indices]\n",
        "\n",
        "        # metamorphic relation\n",
        "        self.assertTrue(2*len(indices1) <= len(indices2))"
      ]
    },
    {
      "cell_type": "markdown",
      "metadata": {
        "id": "YIWP_VCIJgoo"
      },
      "source": [
        "Ниже мы запускаем все объявленные тестовые случаи"
      ]
    },
    {
      "cell_type": "code",
      "execution_count": 6,
      "metadata": {
        "colab": {
          "base_uri": "https://localhost:8080/"
        },
        "id": "hNOpslG87uzq",
        "outputId": "e02e88de-ff3a-4d6a-86d2-ffc9328e0c53"
      },
      "outputs": [
        {
          "output_type": "stream",
          "name": "stderr",
          "text": [
            "..\n",
            "----------------------------------------------------------------------\n",
            "Ran 2 tests in 0.003s\n",
            "\n",
            "OK\n"
          ]
        },
        {
          "output_type": "execute_result",
          "data": {
            "text/plain": [
              "<unittest.main.TestProgram at 0x784c193cf3a0>"
            ]
          },
          "metadata": {},
          "execution_count": 6
        }
      ],
      "source": [
        "unittest.main(argv=['first-arg-is-ignored'], exit=False)"
      ]
    },
    {
      "cell_type": "markdown",
      "metadata": {
        "id": "u1gJjW4GIYhe"
      },
      "source": [
        "### Реализуйте собственные тестовые инварианты ниже"
      ]
    },
    {
      "cell_type": "markdown",
      "source": [],
      "metadata": {
        "id": "rrCjPdXbVPYl"
      }
    },
    {
      "cell_type": "markdown",
      "source": [
        "## 1 Инвариант\n",
        "\n",
        "```DATE``` не зависит от регистра. Значит, можно получить те же результаты для ```s``` как и для ```s.lower()``` и ```s.upper()```"
      ],
      "metadata": {
        "id": "EwyIL0zxLxdF"
      }
    },
    {
      "cell_type": "markdown",
      "source": [
        "## 2 Инвариант\n",
        "\n",
        "Категории не зависят от порядка предложений, значит результат ```s1 + s2``` должен совпадать с ```s2 + s1```\n",
        "\n",
        "Т. е. for i in cat: cat1[i] = cat2[i]"
      ],
      "metadata": {
        "id": "CguStf5aRV2a"
      }
    },
    {
      "cell_type": "markdown",
      "source": [
        "## 3 Инвариант\n",
        "\n",
        "Общее оличество частот для категорий (то есть сумма по каждой категории) должно совпадать с количеством позиций в тексте.\n",
        "\n",
        "Т. е. sum(cat[i]) == len(freq)"
      ],
      "metadata": {
        "id": "iDfZe6uXS37m"
      }
    },
    {
      "cell_type": "code",
      "source": [
        "# для корректного вывода результатов\n",
        "def get_result(text):\n",
        "    nlp = spacy.load('en_core_web_sm')\n",
        "    doc = nlp(text)\n",
        "    props = [p for p in dir(doc.ents[0]) if p[0] != '_']\n",
        "    ent_labels = [e.label_ for e in doc.ents]\n",
        "    freq = dict()\n",
        "    for l in ent_labels:\n",
        "        freq[l] = ent_labels.count(l)\n",
        "    coordinates = [e.start_char for e in doc.ents]\n",
        "    return (freq, coordinates)"
      ],
      "metadata": {
        "id": "LZDPL68WIrAh"
      },
      "execution_count": 64,
      "outputs": []
    },
    {
      "cell_type": "code",
      "execution_count": 66,
      "metadata": {
        "id": "f0hWY1bayPn5"
      },
      "outputs": [],
      "source": [
        "import unittest\n",
        "\n",
        "class TestStringMethods(unittest.TestCase):\n",
        "\n",
        "    def test_with_oracle1(self):\n",
        "        test_text = \"\"\"One morning, when Gregor Samsa woke from troubled dreams, he found himself transformed in his bed into a horrible vermin.\n",
        "        He lay on his armour-like back, and if he lifted his head a little he could see his brown belly, slightly domed and divided by arches into stiff sections.\"\"\"\n",
        "\n",
        "        result = get_result(test_text)\n",
        "        correct_result = ({'TIME': 1, 'PERSON': 1}, [0, 18])\n",
        "\n",
        "        self.assertTrue(result == correct_result)\n",
        "\n",
        "\n",
        "    def test_with_oracle2(self):\n",
        "        test_text = \"\"\"The quick, brown fox jumps over a lazy dog. DJs flock by when MTV ax quiz prog. Junk MTV quiz graced by fox whelps.\n",
        "        Bawds jog, flick quartz, vex nymphs. Waltz, bad nymph, for quick jigs vex! Fox nymphs grab quick-jived waltz.\n",
        "        Brick quiz whangs jumpy veldt fox. Bright vixens jump; dozy fowl quack. Quick wafting zephyrs vex bold Jim.\n",
        "        Quick zephyrs blow, vexing daft Jim. Sex-charged fop blew my junk TV quiz. How quickly daft jumping zebras vex.\n",
        "        Two driven jocks help fax my big quiz.\"\"\"\n",
        "\n",
        "        result = get_result(test_text)\n",
        "        correct_result = ({'ORG': 3, 'PERSON': 5, 'CARDINAL': 1}, [62, 85, 162, 173, 200, 262, 347, 393, 482])\n",
        "\n",
        "        self.assertTrue(result == correct_result)\n",
        "\n",
        "\n",
        "    def test_metamorphic1(self):\n",
        "        test_text = \"\"\"Apple Inc. is an American multinational technology company headquartered in Cupertino,\n",
        "        California. As of March 2023, Apple is the world's biggest company by market capitalization, and with US$394.3 billion the largest technology company by 2022 revenue.\n",
        "        As of June 2022, Apple is the fourth-largest personal computer vendor by unit sales; the largest manufacturing company by revenue;\n",
        "        and the second-largest mobile phone manufacturer in the world.\n",
        "        It is considered one of the Big Five American information technology companies, alongside Alphabet (parent company of Google), Amazon, Meta Platforms, and Microsoft.\n",
        "        Apple was founded as Apple Computer Company on April 1, 1976, by Steve Wozniak, Steve Jobs (1955–2011) and Ronald Wayne to develop and sell Wozniak's Apple I personal computer.\"\"\"\n",
        "\n",
        "\n",
        "        result = get_result(test_text)[0]\n",
        "        result_lower = get_result(test_text.lower())[0]\n",
        "        result_upper = get_result(test_text.lower())[0]\n",
        "\n",
        "        for test_result in [result_lower, result_upper]:\n",
        "            # проверка на одновременное присутствие (или отсутствие) ключа в обоих словарях\n",
        "            self.assertTrue((\"DATE\" in result and \"DATE\" in test_result) or\n",
        "                            (\"DATE\" not in result and \"DATE\" not in test_result))\n",
        "            if \"DATE\" in result:\n",
        "              self.assertTrue(result[\"DATE\"] == test_result[\"DATE\"])\n",
        "\n",
        "\n",
        "    def test_metamorphic2(self):\n",
        "        test_text1 = \"\"\"Apple Inc. is an American multinational technology company headquartered in Cupertino, California.\"\"\"\n",
        "        test_text2 = \"\"\"As of March 2023, Apple is the world's biggest company by market capitalization, and with US$394.3 billion the largest technology company by 2022 revenue.\"\"\"\n",
        "\n",
        "\n",
        "        result1 = get_result(test_text1 + test_text2)\n",
        "        result2 = get_result(test_text2 + test_text1)\n",
        "\n",
        "        self.assertTrue(result1[0] == result2[0])\n",
        "\n",
        "\n",
        "    def test_metamorphic3(self):\n",
        "        test_text = \"\"\"Apple Inc. is an American multinational technology company headquartered in Cupertino,\n",
        "        California. As of March 2023, Apple is the world's biggest company by market capitalization, and with US$394.3 billion the largest technology company by 2022 revenue.\n",
        "        As of June 2022, Apple is the fourth-largest personal computer vendor by unit sales; the largest manufacturing company by revenue;\n",
        "        and the second-largest mobile phone manufacturer in the world.\n",
        "        It is considered one of the Big Five American information technology companies, alongside Alphabet (parent company of Google), Amazon, Meta Platforms, and Microsoft.\n",
        "        Apple was founded as Apple Computer Company on April 1, 1976, by Steve Wozniak, Steve Jobs (1955–2011) and Ronald Wayne to develop and sell Wozniak's Apple I personal computer.\"\"\"\n",
        "\n",
        "        result = get_result(test_text)\n",
        "        sum = 0\n",
        "        for val in result[0].values():\n",
        "          sum += val\n",
        "\n",
        "        self.assertTrue(sum == len(result[1]))"
      ]
    },
    {
      "cell_type": "code",
      "execution_count": 67,
      "metadata": {
        "id": "AU_uYHTn0FKI",
        "colab": {
          "base_uri": "https://localhost:8080/"
        },
        "outputId": "43582607-1b94-4e76-bfdd-088a2aa8871c"
      },
      "outputs": [
        {
          "output_type": "stream",
          "name": "stderr",
          "text": [
            ".....\n",
            "----------------------------------------------------------------------\n",
            "Ran 5 tests in 6.676s\n",
            "\n",
            "OK\n"
          ]
        },
        {
          "output_type": "execute_result",
          "data": {
            "text/plain": [
              "<unittest.main.TestProgram at 0x784c0b80f6a0>"
            ]
          },
          "metadata": {},
          "execution_count": 67
        }
      ],
      "source": [
        "unittest.main(argv=['first-arg-is-ignored'], exit=False)"
      ]
    },
    {
      "cell_type": "markdown",
      "source": [
        "## Результаты\n",
        "\n",
        "Тест с оракулом дает однозначное представление о поведении функции. Однако у него есть недостаток - нужно иметь сами правильные ответы.\n",
        "\n",
        "Тест с инвариантом позволяет проверять различные гипотезы на больших объемах данных без реальных ответов - все зависит от гипотезы, условия, которое мы предъявляем к функции. Однако это все еще не дает безошибочных результатов (во время тестирования, столкнулся с проблемой инвариантности имен для ```s.lower()```"
      ],
      "metadata": {
        "id": "ct_jmGhaT0ei"
      }
    },
    {
      "cell_type": "code",
      "source": [],
      "metadata": {
        "id": "q4yX369gUAMh"
      },
      "execution_count": null,
      "outputs": []
    }
  ],
  "metadata": {
    "colab": {
      "provenance": []
    },
    "kernelspec": {
      "display_name": "Python 3 (ipykernel)",
      "language": "python",
      "name": "python3"
    },
    "language_info": {
      "codemirror_mode": {
        "name": "ipython",
        "version": 3
      },
      "file_extension": ".py",
      "mimetype": "text/x-python",
      "name": "python",
      "nbconvert_exporter": "python",
      "pygments_lexer": "ipython3",
      "version": "3.8.10"
    }
  },
  "nbformat": 4,
  "nbformat_minor": 0
}